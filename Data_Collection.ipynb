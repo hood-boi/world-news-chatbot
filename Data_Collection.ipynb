{
  "nbformat": 4,
  "nbformat_minor": 0,
  "metadata": {
    "colab": {
      "name": "Data_Collection.ipynb",
      "version": "0.3.2",
      "provenance": [],
      "include_colab_link": true
    },
    "kernelspec": {
      "name": "python3",
      "display_name": "Python 3"
    }
  },
  "cells": [
    {
      "cell_type": "markdown",
      "metadata": {
        "id": "view-in-github",
        "colab_type": "text"
      },
      "source": [
        "<a href=\"https://colab.research.google.com/github/hood-boi/world-news-chatbot/blob/master/Data_Collection.ipynb\" target=\"_parent\"><img src=\"https://colab.research.google.com/assets/colab-badge.svg\" alt=\"Open In Colab\"/></a>"
      ]
    },
    {
      "cell_type": "code",
      "metadata": {
        "id": "ui7WodCsDP_5",
        "colab_type": "code",
        "outputId": "379d259c-615c-4170-ad95-636c40fd946a",
        "colab": {
          "base_uri": "https://localhost:8080/",
          "height": 204
        }
      },
      "source": [
        "!pip install langdetect"
      ],
      "execution_count": 1,
      "outputs": [
        {
          "output_type": "stream",
          "text": [
            "Collecting langdetect\n",
            "\u001b[?25l  Downloading https://files.pythonhosted.org/packages/59/59/4bc44158a767a6d66de18c4136c8aa90491d56cc951c10b74dd1e13213c9/langdetect-1.0.7.zip (998kB)\n",
            "\u001b[K     |████████████████████████████████| 1.0MB 2.8MB/s \n",
            "\u001b[?25hRequirement already satisfied: six in /usr/local/lib/python3.6/dist-packages (from langdetect) (1.12.0)\n",
            "Building wheels for collected packages: langdetect\n",
            "  Building wheel for langdetect (setup.py) ... \u001b[?25l\u001b[?25hdone\n",
            "  Created wheel for langdetect: filename=langdetect-1.0.7-cp36-none-any.whl size=993460 sha256=cd38295653301479d01597d07e0aabf421ed635533e982ee0621bf6645940bb7\n",
            "  Stored in directory: /root/.cache/pip/wheels/ec/0c/a9/1647275e7ef5014e7b83ff30105180e332867d65e7617ddafe\n",
            "Successfully built langdetect\n",
            "Installing collected packages: langdetect\n",
            "Successfully installed langdetect-1.0.7\n"
          ],
          "name": "stdout"
        }
      ]
    },
    {
      "cell_type": "code",
      "metadata": {
        "id": "oFBc-6FFsBU1",
        "colab_type": "code",
        "outputId": "13ace3ed-d448-426c-f3a1-a7ac8734ebbd",
        "colab": {
          "base_uri": "https://localhost:8080/",
          "height": 68
        }
      },
      "source": [
        "import requests\n",
        "import json\n",
        "import time\n",
        "import string\n",
        "import nltk\n",
        "from langdetect import detect\n",
        "nltk.download('words')"
      ],
      "execution_count": 2,
      "outputs": [
        {
          "output_type": "stream",
          "text": [
            "[nltk_data] Downloading package words to /root/nltk_data...\n",
            "[nltk_data]   Unzipping corpora/words.zip.\n"
          ],
          "name": "stdout"
        },
        {
          "output_type": "execute_result",
          "data": {
            "text/plain": [
              "True"
            ]
          },
          "metadata": {
            "tags": []
          },
          "execution_count": 2
        }
      ]
    },
    {
      "cell_type": "code",
      "metadata": {
        "id": "IQzNGetCagTS",
        "colab_type": "code",
        "colab": {}
      },
      "source": [
        "printable = set(string.printable)\n",
        "\n",
        "def cleanString(text):\n",
        "    printable = set(string.printable)\n",
        "    text_i = ''.join(filter(lambda x: x in printable, text))\n",
        "    return text_i;"
      ],
      "execution_count": 0,
      "outputs": []
    },
    {
      "cell_type": "code",
      "metadata": {
        "id": "DPNzxqgc0xA7",
        "colab_type": "code",
        "outputId": "6a7fed45-c6d4-44c4-a6d3-07ac029aa6c2",
        "colab": {
          "base_uri": "https://localhost:8080/",
          "height": 34
        }
      },
      "source": [
        "! wc '/content/gdrive/My Drive/Chatbot/rworldnews.txt'"
      ],
      "execution_count": 4,
      "outputs": [
        {
          "output_type": "stream",
          "text": [
            "wc: '/content/gdrive/My Drive/Chatbot/rworldnews.txt': No such file or directory\n"
          ],
          "name": "stdout"
        }
      ]
    },
    {
      "cell_type": "code",
      "metadata": {
        "id": "DJ9Fk548sMVv",
        "colab_type": "code",
        "outputId": "ff8cb612-ba9e-4076-a558-4aeabab34d96",
        "colab": {
          "base_uri": "https://localhost:8080/",
          "height": 187
        }
      },
      "source": [
        "subreddit = \"todayilearned\"\n",
        "\n",
        "def updateListingDict(postsJSON, postsDICT):\n",
        "    chunk_size = len(postsJSON[\"data\"][\"children\"])\n",
        "    posts = postsJSON[\"data\"][\"children\"]\n",
        "    \n",
        "    for i in range(chunk_size): #Loop through each reddit post\n",
        "        r_post_title = posts[i][\"data\"][\"title\"];\n",
        "        r_post_title = \" \".join(r_post_title.split());\n",
        "        r_post_title = r_post_title.replace('\\n', ' ');\n",
        "        r_post_title = r_post_title.replace('\\t', ' ');\n",
        "        r_post_title = r_post_title.replace('\\'', '');\n",
        "        r_post_title = r_post_title.replace('\\\"', '');\n",
        "\n",
        "        postsDICT[posts[i][\"data\"][\"id\"]] = cleanString(r_post_title);\n",
        "\n",
        "after = '';\n",
        "listing_dict = {};\n",
        "\n",
        "for i in range(0, 10):\n",
        "    if(after):\n",
        "        print(\"[AFTER] = \", after)\n",
        "        r_worldnews = requests.get('https://www.reddit.com/r/'+ subreddit +'/top.json?t=all&limit=100&after='+after, \n",
        "                                headers = { 'User-agent' : 'ChatBot', \n",
        "                                            'Accept' : '*/*',\n",
        "                                            'Cache-Control' : 'no-cache'\n",
        "                                          });\n",
        "        if(r_worldnews.status_code == 200):\n",
        "            postsJSON = r_worldnews.json()\n",
        "            updateListingDict(postsJSON, listing_dict);\n",
        "            after = postsJSON[\"data\"][\"after\"];\n",
        "    else:\n",
        "        print(\"[AFTER] = NONE\")\n",
        "        r_worldnews = requests.get('https://www.reddit.com/r/'+ subreddit +'/top.json?t=all&limit=100', \n",
        "                                headers = { 'User-agent' : 'ChatBot', \n",
        "                                            'Accept' : '*/*',\n",
        "                                            'Cache-Control' : 'no-cache' \n",
        "                                          });\n",
        "        if(r_worldnews.status_code == 200):\n",
        "            postsJSON = r_worldnews.json()\n",
        "            updateListingDict(postsJSON, listing_dict);\n",
        "            #print(\"[GET] request successful\")\n",
        "            after = postsJSON[\"data\"][\"after\"];\n",
        "            \n",
        "            "
      ],
      "execution_count": 5,
      "outputs": [
        {
          "output_type": "stream",
          "text": [
            "[AFTER] = NONE\n",
            "[AFTER] =  t3_an3th5\n",
            "[AFTER] =  t3_96h90n\n",
            "[AFTER] =  t3_7qt84c\n",
            "[AFTER] =  t3_ajga93\n",
            "[AFTER] =  t3_86cmhd\n",
            "[AFTER] =  t3_81awfz\n",
            "[AFTER] =  t3_60n7wp\n",
            "[AFTER] =  t3_5lauqm\n",
            "[AFTER] =  t3_5u9fji\n"
          ],
          "name": "stdout"
        }
      ]
    },
    {
      "cell_type": "code",
      "metadata": {
        "id": "9y6iee2ZsU3d",
        "colab_type": "code",
        "outputId": "e3a24863-7655-4b3d-dfd9-2ea2eeefc6c6",
        "colab": {
          "base_uri": "https://localhost:8080/",
          "height": 71
        }
      },
      "source": [
        "print(len(listing_dict))\n",
        "\n",
        "for key, value in listing_dict.items():\n",
        "    print(key, value)\n",
        "    break;"
      ],
      "execution_count": 6,
      "outputs": [
        {
          "output_type": "stream",
          "text": [
            "989\n",
            "7pbzcb TIL After Col. Shaw died in battle, Confederates buried him in a mass grave as an insult for leading black soldiers. Union troops tried to recover his body, but his father sent a letter saying We would not have his body removed from where it lies surrounded by his brave and devoted soldiers.\n"
          ],
          "name": "stdout"
        }
      ]
    },
    {
      "cell_type": "code",
      "metadata": {
        "id": "pDCIaWZ7sXLr",
        "colab_type": "code",
        "outputId": "bed3094e-207a-4f5a-f74c-3a38c4f11547",
        "colab": {
          "base_uri": "https://localhost:8080/",
          "height": 122
        }
      },
      "source": [
        "from google.colab import drive\n",
        "drive.mount('/content/gdrive')"
      ],
      "execution_count": 7,
      "outputs": [
        {
          "output_type": "stream",
          "text": [
            "Go to this URL in a browser: https://accounts.google.com/o/oauth2/auth?client_id=947318989803-6bn6qk8qdgf4n4g3pfee6491hc0brc4i.apps.googleusercontent.com&redirect_uri=urn%3Aietf%3Awg%3Aoauth%3A2.0%3Aoob&scope=email%20https%3A%2F%2Fwww.googleapis.com%2Fauth%2Fdocs.test%20https%3A%2F%2Fwww.googleapis.com%2Fauth%2Fdrive%20https%3A%2F%2Fwww.googleapis.com%2Fauth%2Fdrive.photos.readonly%20https%3A%2F%2Fwww.googleapis.com%2Fauth%2Fpeopleapi.readonly&response_type=code\n",
            "\n",
            "Enter your authorization code:\n",
            "··········\n",
            "Mounted at /content/gdrive\n"
          ],
          "name": "stdout"
        }
      ]
    },
    {
      "cell_type": "code",
      "metadata": {
        "id": "IadICnBysbTB",
        "colab_type": "code",
        "colab": {}
      },
      "source": [
        "file_handle = open('/content/gdrive/My Drive/Chatbot/r'+subreddit+'.txt', 'a+')\n",
        "\n",
        "#Expecting array of JSON children\n",
        "def recursePostComments(context, commentsJSON):\n",
        "   \n",
        "    size = len(commentsJSON)\n",
        "    unique_context = 1;\n",
        "    for i in range(0, size):\n",
        "        #print(commentsJSON[i])\n",
        "        if('data' in commentsJSON[i].keys()):\n",
        "            if('body' in commentsJSON[i]['data'].keys()):\n",
        "                reply = commentsJSON[i]['data']['body'];\n",
        "                if(\"[deleted]\" in reply or \"[removed]\" in reply):\n",
        "                    continue;\n",
        "                else:\n",
        "                    reply = reply.replace('\\n', ' ');\n",
        "                    reply = reply.replace('\\t', ' ');\n",
        "                    reply = reply.replace('\\'', '');\n",
        "                    reply = reply.replace('\\\"', '');\n",
        "                    reply = reply.replace('&gt', '');\n",
        "                    reply = reply.replace('&lt', '');\n",
        "                    #print(\"Context : \", context);\n",
        "                    \n",
        "                    if (len(reply) > 500):\n",
        "                        continue;\n",
        "                        #print(\"\\tLen :\", len(reply));\n",
        "                    #    t_reply = summarizeText(reply);\n",
        "                    #    if (len(t_reply) > 0):\n",
        "                    #        reply = t_reply;\n",
        "                    #print(\"\\tReply :\", reply);\n",
        "                    \n",
        "                    reply = cleanString(reply);\n",
        "                    reply = \" \".join(reply.split());\n",
        "                                        \n",
        "                    \n",
        "                    if(reply.isspace() or context.isspace()):\n",
        "                        print(\"Error : \", reply, \", \", context)\n",
        "                        continue;                    \n",
        "                    else:\n",
        "                        if(unique_context == 1):\n",
        "                            line_to_write = \"{}\\t{}\\n\".format(reply.strip(), context.strip());\n",
        "                            file_handle.write(line_to_write)\n",
        "                            unique_context = 0;\n",
        "                    \n",
        "                    if('replies' in commentsJSON[i]['data'].keys()):\n",
        "                        if(commentsJSON[i]['data']['replies']):\n",
        "                            if('data' in commentsJSON[i]['data']['replies'].keys()):\n",
        "                                if(commentsJSON[i]['data']['replies']['data']):\n",
        "                                    if('children' in commentsJSON[i]['data']['replies']['data'].keys()):\n",
        "                                        recursePostComments(reply, commentsJSON[i]['data']['replies']['data']['children']);\n",
        "            else:\n",
        "                continue;\n",
        "        else:\n",
        "            continue;\n",
        "    return;\n"
      ],
      "execution_count": 0,
      "outputs": []
    },
    {
      "cell_type": "code",
      "metadata": {
        "id": "KdWXPN00lj3I",
        "colab_type": "code",
        "outputId": "f5bdb720-cbfd-421d-a13b-f17d2c1730f6",
        "colab": {
          "base_uri": "https://localhost:8080/",
          "height": 34
        }
      },
      "source": [
        "! wc '/content/gdrive/My Drive/Chatbot/rworldnews.txt'"
      ],
      "execution_count": 9,
      "outputs": [
        {
          "output_type": "stream",
          "text": [
            "  248952 11261157 65389928 /content/gdrive/My Drive/Chatbot/rworldnews.txt\n"
          ],
          "name": "stdout"
        }
      ]
    },
    {
      "cell_type": "code",
      "metadata": {
        "id": "OORr_Wa1scF1",
        "colab_type": "code",
        "outputId": "5984a342-a577-4e8e-ca4e-ae293f74e616",
        "colab": {
          "base_uri": "https://localhost:8080/",
          "height": 1000
        }
      },
      "source": [
        "for key, value in listing_dict.items():\n",
        "    print(key, value)\n",
        "    time.sleep(2)\n",
        "    r_comments = requests.get('https://www.reddit.com/r/'+ subreddit +'/comments/' + key +'.json?limit=1000&sort=confidence&depth=3', \n",
        "                                headers = { 'User-agent' : 'ChatBot', \n",
        "                                            'Accept' : '*/*',\n",
        "                                            'Cache-Control' : 'no-cache' \n",
        "                                          });\n",
        "    r_comments_json = r_comments.json();\n",
        "    context = value;\n",
        "    commentsJSON = r_comments_json[1][\"data\"][\"children\"]\n",
        "    recursePostComments(context, commentsJSON)\n",
        "    \n",
        "file_handle.close()"
      ],
      "execution_count": 0,
      "outputs": [
        {
          "output_type": "stream",
          "text": [
            "7pbzcb TIL After Col. Shaw died in battle, Confederates buried him in a mass grave as an insult for leading black soldiers. Union troops tried to recover his body, but his father sent a letter saying We would not have his body removed from where it lies surrounded by his brave and devoted soldiers.\n",
            "8ih4tq TIL that in 1916 there was a proposed Amendment to the US Constitution that would put all acts of war to a national vote, and anyone voting yes would have to register as a volunteer for service in the United States Army.\n",
            "b0fz4k TIL of Dr. Donald Hopkins. He helped eradicate Smallpox, and is on the verge of killing another disease. Hes taken Guinea Worm Disease down from 3.5 million cases a year to just 28 cases last year.\n",
            "93dfyx TIL A Japanese company has awarded its non-smoking employees 6 extra vacation days to compensate for the smokers smoke breaks\n",
            "7yqmzl TIL when the Nazis burned Sigmund Freuds books he said, What progress we are making. In the Middle Ages they would have burned me. Now, they are content with burning my books.\n",
            "ceigyw TIL In 1959, police were called to a segregated library in S. Carolina when a 9yr-old Black boy refused to leave. He later got a PhD in Physics from MIT, and died in 1986, one of the astronauts aboard the space shuttle Challenger. The library that refused to lend him books is now named after him.\n",
            "6f13fz TIL that Billy Joel never sells front row seats in order to see the real fans right in front of him. He gives them away to random people in the cheap seats so that front row isnt always just wealthy people.\n",
            "7keb7u TIL Carrie Fisher delivered a cow tongue inside a Tiffany box to a predatory producer who had assaulted her friend. She said, The next delivery will be something of yours in a much smaller box!\n",
            "aqbmrh TIL in the 1880s, the Harvard Observatory director was frustrated with his staff, and would say My Scottish maid could do better! So, he hired his Scottish maid. Williamina Fleming ran a team for decades, classified tens of thousands of stars, &amp; discovered white dwarfs and the Horsehead Nebula.\n",
            "ack7y4 TIL that Willie, a parrot, alerted its owner, Megan Howard, when the toddler she was babysitting began to choke. Megan was in the bathroom, the parrot began screaming mama, baby while flapping its wings as the child turned blue. Megan rushed over and performed the Heimlich, saving the girls life.\n",
            "a31ce0 TIL Dennis Ritchie who invented the C programming language, co-created the Unix operating system, and is largely regarded as influencing a part of effectively every software system we use on a daily basis died 1 week after Steve Jobs. Due to this, his death was largely overshadowed and ignored.\n",
            "9z4ujr TIL of Syndrome K: a fake disease that Italian doctors made up to save Jews who had fled to their hospital seeking protection from the Nazis. Syndrome K patients were quarantined and the Nazis were told that it was a deadly, disfiguring, and highly contagious illness. They saved at least 20 lives.\n",
            "a2v3fv TIL there was an early 1900s act named Sober Sue, whos draw was she never smiled. A theater offered $1000 to any one who could make her laugh, attracting big comedians. Crowds came out to watch them try, and fail, giving them a free show. Later it came out that Sue suffered from facial paralysis.\n",
            "a16vla TIL During the American Revolution, an enslaved man was charged with treason and sentenced to hang. He argued that as a slave, he was not a citizen and could not commit treason against a government to which he owed no allegiance. He was subsequently pardoned.\n",
            "aadb74 TIL A man created a fake restaurant on TripAdvisor and asked around for good reviews. Eventually, the fake restaurant was the #1 restaurant in London, and was being called up 100s of times daily for bookings. For a day, the man set up a cafe in his backyard and served frozen food to rave reviews.\n",
            "cic1mt TIL Arnold Schwarzenegger wasnt allowed to dub his own role in Terminator in German, as his accent is considered very rural by German/Austrian standards and it would be too ridiculous to have a death machine from the future come back in time and sound like a hillbilly.\n",
            "ag089o TIL Kate Winslet keeps her Oscar in the bathroom so her guests can hold it and make acceptance speeches in the mirror without feeling self conscious\n",
            "6xhr32 TIL hundreds of love letters between two gay World War II soldiers were found and are being made into a book. In one, one of them wrote, Wouldnt it be wonderful if all our letters could be published in the future in a more enlightened time. Then all the world could see how in love we are.\n",
            "98fhhe TIL that there was a rumor that Stephen Hawking would deliberately run over the toes of people he didnt like. He denied this rumor by stating it was A Malicious rumor and Ill run over anyone who repeats it.\n",
            "9ooyi5 TIL: Some farmers in Bangladesh have switched to raising ducks instead of chickens, because during catastrophic floods, ducks float.\n",
            "7zhecd TIL Michael Jordan once tipped a waitress a $5 chip for bringing him a drink. Wayne Gretzky stopped the waitress, removed the $5 chip, grabbed one of the many $100 chips on Jordans side of the table, and gave it to her. Then he said, Thats how we tip in Las Vegas, Michael.\n",
            "9yr8ru TIL an actor in Nazi Germany lost his job for being Jewish. He went to the Alps, grew a beard, and dyed all his hair by bathing in diluted hydrogen. He returned to the stage claiming to be a self-taught peasant actor and was praised by the Nazis as proof of the superiority of Aryan blood.\n",
            "7qve75 TIL Keanu Reeves often foregoes some of his paycheck so that producers can bring on other notable actors. On The Devils Advocate, he reduced his salary by a few million dollars so that they could afford Al Pacino, and he did the same thing on The Replacements to be able to work with Gene Hackman.\n",
            "axflww TIL that Pink Floyds The Wall is implied to be an endless loop. The final song, Outside the Wall, ends with the words Isnt this where..., and the album begins with the words ... we came in? with a continuation of the melody of the last song, hinting at the cyclical nature of Waters theme.\n",
            "akeq6q TIL that a depressed Manchester teen used several fake online personas to convince his best friend to murder him, and after surviving the attack, he became the first person in UK history to be charged with inciting their own murder.\n",
            "a5lhi0 TIL: Laurence Tureaud named himself professionally as Mr. T because he hated how his father, uncle, and brother who returned from Vietnam, were disrespectfully called boy by whites. He wanted the first word from everybodys mouth to be Mister when speaking to him.\n",
            "a7q1ik TIL That the Cuban Missile Crisis began when a CIA operative noticed soccer fields on a Cuban Military Base. Cubans play baseball, Russians play soccer\n",
            "a4zk9s TIL when Mr Rogers heard his limo driver was going to be waiting outside while Rogers was in a meeting, he asked the driver to come in. On the way back they passed the drivers home and Rogers asked if they could stop and meet his family. Rogers kept in touch with the driver for the rest of his life\n",
            "a8lqsx TIL planned obsolescence is illegal in France; it is a crime to intentionally shorten the lifespan of a product with the aim of making customers replace it. In early 2018, French authorities used this law to investigate reports that Apple deliberately slowed down older iPhones via software updates.\n",
            "7ntt7r TIL : IN 2006, a man in Portland, Oregon hired a hitman to kill his 51-year-old wife. His wife ended up killing the hitman with her bare hands. When Susan Kuhnhausen had her hands on his neck she asked him, TELL ME WHO SENT YOU HERE AND I WILL CALL YOU A FUCKING AMBULANCE!\n",
            "6iakmn TIL when Nintendo had a fall in revenue from the less successful Wii U its CEO cut his pay in half for 5 months rather than blame workers\n",
            "75ovx2 TIL that Eminem watched his daughter, Hailie, get crowned homecoming queen from an empty classroom in the school because he didnt want to take the attention away from her.\n",
            "5kl75n TIL Carrie Fisher told her fans: No matter how I go, I want it reported that I drowned in moonlight, strangled by my own bra.\n",
            "8plafa TIL an 86-year-old wrote an upbeat review for her local paper about a new Olive Garden. She was mercilessly mocked by the Internet. Anthony Bourdain thought she had a valuable POV on small town dining. So he published a book of her reviews.\n",
            "asmvxc TIL a Harvard study found that hiring one highly productive toxic worker does more damage to a companys bottom line than employing several less productive, but more cooperative, workers.\n",
            "7n0wwe TIL apes dont ask questions. While apes can learn sign language and communicate using it, they have never attempted to learn new knowledge by asking humans or other apes. They dont seem to realize that other entities can know things they dont. Its a concept that separates mankind from apes.\n",
            "bhpju6 TIL that in 1998 Sony had the chance to buy the rights to almost every Marvel character for 25 million. They opted to only buy the rights to Spider-Man for just 7 million, stating, Nobody gives a shit about the other Marvel characters.\n",
            "96k5om TIL that in the 1950s, donut shops were some of the first food businesses commonly open late at night. They became hot spots for police working the night shift since it gave them a place to grab a snack, fill out paper work, or even just take a break. This is why donuts became associated with cops.\n",
            "8jgmk0 TIL a man falsely imprisoned for 10 years spent most of his time at the library to study law and prove his innocence, and then became a lawyer to help free other people who have been falsely convicted.\n",
            "bwcjxs TIL the crew of Return of the Jedi mocked the character design of Admiral Ackbar, deeming it too ugly. Director Richard Marquand refused to alter it, saying, I think its good to tell kids that good people arent necessarily good looking people and that bad people arent necessarily ugly people.\n",
            "8j4ppo TIL Washington Redskins owner Dan Snyder once cut down trees along the Potomac River so that he could see it from his house. The trees were located in a national park, and a ranger who raised concern about the issue was raided by US Marshals\n",
            "8most3 TIL That Yao Mings conservation campaigns has led to a 50% drop in shark fin soup consumption in China. He is now working on poaching as well.\n",
            "al6w05 TIL Max Planck was told by his professor to not go into Physics because almost everything is already discovered. Planck said he didnt want to discover anything, just learn the fundamentals. He went on to originate quantum theory and win a Nobel Prize.\n",
            "aiieca TIL Gary Gygaxs wife was convinced he was having an affair so she followed him to a dimly lit basement and burst into the room only to find him and his friends hunched over hand drawn maps. Gary would go on to invent the role playing game Dungeons and Dragons\n",
            "7mjcbx TIL that after Beethoven went deaf, he found he could affix a metal rod to his piano and bite down on it while he played, enabling him to hear perfectly through vibrations in his jawbone. The process is called bone conduction.\n",
            "azobdt TIL - In 1836, a sewer worker accidentally discovered an old drain which ran directly into the Bank of Englands gold vault. He wrote letters to the directors of the bank and requested a meeting inside the vault at an hour of their choosing - and popped out of the floor to greet them\n",
            "7lsjyg TIL that the Mythbusters once tested a combination of common materials that made an extremely powerful explosive. They deleted the tapes and swore to never release the information, then contacted DARPA and warned them about the possibility of misuse from the combination.\n",
            "azt02v TIL the Japanese bullet train system is equipped with a network of sensitive seismometers. On March 11, 2011, one of the seismometers detected an 8.9 magnitude earthquake 12 seconds before it hit and sent a stop signal to 33 trains. As a result, only one bullet train derailed that day.\n",
            "7iwxp3 TIL that Angelina Jolie once tried to hire a hitman to kill her, because she felt that a murder would be easier on her family than her committing suicide. The would-be-hitman talked her out of it by asking her to wait a month.\n",
            "7yxmiy TIL theres a restaurant in New York that doesnt employ chefs; they employ grandmas. Every day, a different grandma from around the world designs her own menu.\n",
            "as9z9d TIL that a Polish environmental charity put a SIM card in a GPS tracker to follow the migratory pattern of a white stork. They lost track of the stork and later received a phone bill for $2,700; someone in Sudan had taken the SIM from the tracker and made over 20 hours of calls.\n",
            "aisyuc TIL Martin Short, Steve Martin and Tom Hanks have regular colonoscopy parties where they prep together overnight and share one car on the ride to get their colonoscopies the next day\n",
            "b3yp1h TIL when Lawrence Anthony, known as The Elephant Whisperer, passed away. A herd of elephants arrived at his house in South Africa to mourn him. Although the elephants were not alerted to the event, they travelled to his house and stood around for two days, and then dispersed.\n",
            "b7w7ao TIL when Robert Ballard (professor of oceanography) announced a mission to find the Titanic, it was a cover story for a classified mission to search for lost nuclear submarines. They finished before they were due back, so the team spent the extra time looking for the Titanic and actually found it.\n",
            "9cpvk2 TIL that in ancient Rome, commoners would evacuate entire cities in acts of revolt called Secessions of the Plebeians, leaving the elite in the cities to fend for themselves\n",
            "6wu04f TIL a woman was sentenced to life in prison for poisoning her child to death with antifreeze. She gave birth to a second child while in prison, who was given to foster care. But he became sick with the same symptoms, indicating a genetic metabolic disorder, not poisoning. She was later released.\n",
            "7dem67 TIL: Nirvana played a concert in Beunos Aires where the crowd threw mud and trash at the all-girl opening act. Kurt Cobain was so upset that he sabotaged the show by playing mostly lesser known songs and teasing Smells Like Teen Spirit without ever playing it.\n",
            "9nng7q TIL of Bob Fletcher, a man who took care of the farms of three Japanese American families while they were interned during World War 2. By keeping their farms running and paying their taxes and mortgages, he ensured the families didnt lose everything. He was even shot at for supporting them.\n",
            "8ne30f TIL the creators of Parks and Recreation did research for the show by interviewing actual government officials. One said, Well, Im a libertarian, so I dont really believe in the mission of my job. Yes, Im aware of the irony. The character of Ron Swanson was born.\n",
            "6um0b4 TIL Eminems song Lose Yourself was the first rap song to win an Oscar for Best Original Song, but Eminem did not even watch the awards because he did not think he stood a chance at winning. Instead, he fell asleep watching cartoons with his daughter.\n",
            "9rza1b TIL in 2005, a guy named Doug Heckman read the EULA before he installed some PC software. The agreement included a clause offering financial compensation to licensees who actually read the license agreement. He emailed the company, referred to the clause and the company sent him a check for $1,000\n",
            "7impnk TIL scientists discovered a dinosaur tail perfectly preserved in amber. It is full of feathers.\n",
            "8m3lqu TIL that Prince William and Prince Harry pulled a prank on their grandmother the Queen, by changing her voicemail answering message to say, Hey wassup! This is Liz. Sorry Im away from the throne. For a hotline to Philip, press one. For Charles, press two. And for the corgis, press three.\n",
            "881ym7 TIL a group of undercover Detroit police posing as drug dealers tried to arrest another group of undercover police posing as drug buyers.\n",
            "9uesb8 TIL that in 1825 painter Samuel Morse received a letter which read that his wife was sick. The day after that a new one said that she was dead. When 2 days later he went to his wife, he discovered that she was already buried. Pissed off for the slowness of communications, he invented the Morse code.\n",
            "aw83ni TIL The reason why we view neanderthals as hunched over and degenerate is that the first skeleton to be found was arthritic.\n",
            "9bjyuq TIL that in Germany, it is illegal to kill any animal that is a vertebrate without proper reason like the animal being ill or a danger to humans. Because of this, all German animal shelters are no-kill.\n",
            "abs5gi TIL that during the filming of the Sound of Music, the city of Salzburg refused to allow Nazi flags to be hung off buildings for filming. The director threatened to instead use real newsreel footage of the city enthusiastically greeting Hitler. The city quickly backpedalled and allowed the shot.\n",
            "b10je3 TIL after the worlds largest beach clean-up at Mumbais Versova beach, Olive Ridley turtles returned to lay eggs for the first time in 20 years.\n",
            "7gfbuf TIL George Washington allegedly said before his death that he would never set foot on English soil again, so when they erected a statue of him in London, they put US soil under the statue to honor that claim\n",
            "ahie5i TIL that after studios refused, Monty Python and the Holy Grail was instead financed by the rock stars Pink Floyd, Led Zeppelin, Genesis, Jethro Tull and Elton John who all saw it as simply a good tax write-off.\n",
            "7k0exs TIL Quebec banned ads for toys and fast food aimed at children under 13, resulting in lowered childhood obesity rates.\n",
            "9po1vt TIL after Columbine, Marilyn Manson wrote an article condemning the medias coverage of the event. In it he writes, the media, since their inception, have turned criminals into folk heroes. They just created two new ones... Dont be surprised if every kid who gets pushed around has two new idols.\n",
            "bkaxjv TIL that farmers in USA are hacking their John Deere tractors with Ukrainian firmware, which seems to be the only way to actually *own* the machines and their software, rather than rent them for lifetime from John Deere.\n",
            "8a8z8v TIL Grand Theft Auto V cost $265 million to make -- the largest budget of any video game at that time -- but turned around and made $1 billion in its first 72 hours\n",
            "av5r2g TIL that when Michael Jackson granted Weird Al Yankovic permission to do Fat (a parody of Bad), Jackson allowed him to use the same set built for his own Badder video from the Moonwalker film. Yankovic said that Jacksons support helped to gain approval from other artists he wanted to parody.\n",
            "9jxt9g TIL that Harper Lees friends gave her a full years salary for Christmas in 1956 so that shed be able to take a year off from work to write. Lee used that time to write To Kill a Mockingbird, which has since sold over 30 million copies.\n",
            "7frzkf TIL A researcher once played a recording of an elephant who had died. The sound was coming from a speaker hidden in a thicket. The family went wild calling, looking all around. The dead elephants daughter called for days afterward. The researchers never again did such a thing.\n",
            "8bjxp6 TIL when pimps get arrested, their cash can legally be confiscated but not their jewelry. This is why pimps wear lots of jewelry so that they can re-pawn it for bail money.\n",
            "biaurx TIL that Volvo opened up the patent for three-point seatbelt cause it had more value as a free life saving tool than something to profit from\n",
            "7zkmy6 TIL the Catholic Church has accepted Darwinian evolution as compatible with Christianity since 1950.\n",
            "8hrjxc TIL Hugh Jackman took a pay cut to ensure Logan would be rated R. Since R-rated films typically limit the overall audience that can attend, Jackmans reduced salary brought the budget down to an acceptable place to warrant an R rating.\n",
            "bgxtrn TIL That Elvis Presleys manager sold I Hate Elvis badges as a way to make money from people who werent buying Elvis merchandise\n",
            "92ly1a TIL: When roosters open their beaks fully, their external auditory canals completely closed off. Basically, roosters have built in earplugs. This helps prevent them from damaging their hearing when they crow.\n",
            "9apyzv TIL after Chamillionaire won a Grammy for Ridin, he approached Weird Al Yancovic on the red carpet, thanked him for the White and Nerdy parody and told him I think your parody is a big reason why I won this Grammy, because you made it undeniable that my song was the rap song of the year.\n",
            "85uy9n TIL that Keanu Reeves runs a private charitable foundation to fund cancer research and childrens hospitals. In 2009, he told Ladies Home Journal: I dont like to attach my name to it, I just let the foundation do what it does.\n",
            "7wuri1 TIL: CBS used to add bird songs to their golf broadcasts to get rid of awkward silences until they got caught by someone watching at home who knew the bird songs belonged to birds that didnt live in the region in which the golf tournament was being played.\n",
            "abnqzs TIL Hersheys does not meet the legal minimum cocoa content to be described as chocolate in Britain\n",
            "ckvczd TIL Scientist grew trees in a sealed biosphere and couldnt work out why they fell over before they matured. They eventually figured out whilst they provided the perfect growing environment it was lacking wind which provides the stress to ensure the trees grew strong enough to support themselves.\n",
            "8lb48n TIL of the speed camera lottery in Stockholm, Sweden. Drive at or under the speed limit and youll be entered into a lottery where the prize fund comes from the fines that speeders pay. Average speed reduced from 32km/h to 25km/h (a reduction of 22%)\n",
            "9tcddk TIL Stan Lee, co-creator of Daredevil, worried that blind people would be offended at how far he exaggerated the way a blind persons other senses are enhanced, until he started receiving letters telling him that blind people greatly enjoyed having Daredevil comics read to them.\n",
            "7sy9hu TIL that Lake Superior has an island which has a lake which has an island which has a pond which has a boulder, which, when the pond floods, becomes the largest island in the largest lake on the largest island in the largest lake on the largest island in the largest lake in the world.\n",
            "a5v2dm TIL Frank Zappa was a futurist who was enthusiastic for the possibility of holographic imagery. So much so that he recorded footage of himself in the early 70s with the intention to be used when technology got to that point. A Frank Zappa holographic tour using that footage starts next year.\n",
            "ajcpkp TIL Why paper cuts are so painful is b/c at a microscopic level, paper is actually quite rough. A knife makes a straight cut, but paper acts like a saw blade and does more damage to cells and nerve endings. Paper also leaves behind tiny fibres and chemical residues, irritating the wound even more.\n",
            "9iwqyz TIL that after firefighters saved piglets from a barn fire, 6 months later the farmer sent them sausages made from the piglets as a thank you gift\n",
            "ad9oxt TIL that according to a study, strict parents can turn their kids into more effective liars because children who are afraid to tell the truth learn more deceptive behaviors to avoid getting in trouble.\n",
            "8mw7j1 TIL that the moon is 1/400th the size of the sun but also 1/400th the distance from Earth which results in the moon and the sun being the same size in the sky, a coincidence not shared by any other known planet-moon combination.\n",
            "8zz19t TIL Anthony Daniels, who endured years of discomfort in the C-3PO costume, was so annoyed by Alan Tudyk (Rogue One) playing K-2SO in the comfort of a motion-capture suit that he cursed at Tudyk. Tudyk later joked that a fuck you from Daniels was among the highest compliments he had ever received.\n",
            "axaqjd TIL that Billy West, who does the voice of Philip J. Frys on Futurama among other characters, intentionally made Frys voice close to his natural voice as a job security measure because it would be more difficult to replace him.\n",
            "an3th5 TIL that the NFL made a commitee to falsify information to cover up brain damage in their players\n",
            "8n2gl8 TIL Donnie Yen (the blind monk in Star Wars: Rogue One/star of the Ip Man films) was once leaving a Hong Kong nightclub with his girlfriend when they were attacked by a gang who had been bothering them earlier in the night. Donnie hospitalised 8 of them.\n",
            "7nhl2d TIL if you publish a book in Norway, the government will buy 1000 copies (1,500 if a childrens book) and distribute them to libraries throughout the country.\n",
            "7z1i8y TIL that comedian Ryan Stiles from Whose Line is it Anyway? has been a frequent fund raiser for children with burn injuries, raising over $500,000 for the Burned Children Recovery Center since 2009, helping the foundation to recover from the economy crash of 2008.\n",
            "axrxwf TIL that Schwarzenegger faked interest in the movie Stop Or My Mom Will Shoot to trick Stallone into starring in it. Stallone later called the movie maybe one of the worst films in the entire solar system, including alien productions weve never seen.\n",
            "a0wdem TIL that the drink 8 glasses of water a day is based on a 1945 recommendation that had no medical basis. The current recommendation is drink when you are thirsty, unless you are outside on a hot day or are elderly- then drink a bit more.\n",
            "cd5e25 TIL President Diouf began an anti-AIDS program in Senegal, before the virus was able to take off. He used media and schools to promote safe-sex messages and required prostitutes to be registered. While AIDS was decimating much of Africa, the infection rate for Senegal stayed below 2 percent\n",
            "8zdcwr TIL : When Queen Elizabeth visited the set of Game of Thrones she refused to sit on the Iron Throne because there is a law disallowing her from sitting on a foreign throne.\n",
            "c3ewal TIL in 1959 a white man from Texas disguised himself as a black man and traveled for six weeks on greyhound buses. After publishing his experiences with racism he was forced to move to Mexico for several years due to death threats.\n",
            "a6gcmz TIL that soon after Bill Gates had gone to start Microsoft, a Harvard professor who had worked with him recalled, He had moved to Albuquerque... to run a small company writing code for microprocessors, of all things. I remember thinking: Such a brilliant kid. What a waste.\n",
            "6l2ldi TIL Mark Twain traveled extensively and once said Travel is fatal to prejudice, bigotry, and narrow-mindedness, and many of our people need it sorely on these accounts. Broad, wholesome, charitable views of men and things cannot be acquired by vegetating in one little corner of the earth...\n",
            "b0t2r1 TIL that the little boy known as Batkid who saved San Francisco while battling leukemia in 2013 is now cancer free.\n",
            "bxgmge TIL that Charlie Chaplin made the Hitler mocking film, The Great Dictator, in 1940 using his own money because none of the Hollywood studios were comfortable irking the Germans as they had financial relations with them. The film is said to be one of the greatest works of Charlie Chaplin.\n",
            "7jtfju TIL an Icelandic tradition called Jlabkafl exists, where books are exchanged as Christmas Eve presents and the rest of the night is spent reading them and eating chocolate.\n",
            "8wtzme TIL of the Great Whiskey Fire of Dublin that killed 13 people in 1875. None perished as a result of smoke inhalation or burns. All victims died of alcohol poisoning by drinking the whiskey flowing through the streets.\n",
            "ah9wsh TIL Nintendo pushed the term videogame console so people would stop calling competing products Nintendos and they wouldnt risk losing the valuable trademark.\n",
            "ap8yj9 TIL that an Anti seat-belt advocate, Derek Kieper, once wrote that Uncle Sam is not here to regulate every facet of life no matter the consequences. He later died after being thrown from his vehicle while driving without a seat-belt.\n",
            "cblq2y TIL when Weird Al Yankovic asked Kurt Cobain to parody Smells Like Teen Spirit that Kurt asked him if it would be about food, and Al said it would be about how no one could understand his lyrics. Kurt found that extremely funny, and said absolutely.\n",
            "92ig5b TIL In 1988, Israel Kamakawiwoole called a studio at 3am and asked if he could record because he had a good idea. The studio owner said yes even though he already closed the studio. 15 minutes later he recorded Israel playing his ukelele and recorded Over the Rainbow in one take.\n",
            "6f4sjo TIL not long before his death, Freddie Mercury, confined to his bed, got to see an advance copy of the Waynes World scene with Wayne and Garth headbanging to Bohemian Rhapsody. He loved it and approved of the songs use in the film. The movie, in part, helped launch Queens comeback in the USA\n",
            "9qjoh9 TIL Wrigleys was originally a soap company that gifted baking powder with their soap. The baking powder became more popular than the soap so they switched to selling baking powder with chewing gum as a gift. The gum became more popular than the baking powder so the company switched to selling gum.\n",
            "a1q9v8 TIL when the territory of Wyoming applied to join the US, congress told them theyd have to stop letting women vote. Their response was We will remain out of the Union one hundred years rather than come in without the women. In 1890 they joined as the first and only state to allow women to vote.\n",
            "bhlsy8 TIL that for four years, Hugh Grant pretended to be his own talent agent under the name James Howe Ealy. He communicated with people via a fake email account and even disguised his voice with a Scottish accent on the phone. I saved myself an absolute fortune, he said.\n",
            "96u9xs TIL Ryan Reynolds has openly spoken about his lifelong struggle with anxiety, noting in 2018 that he carried out many interviews in the character of Deadpool to alleviate his fears.\n",
            "80m4uy TIL after his wife was denied water by upper caste people, Indian laborer Bapuro Tajne managed to dig her a well in under 40 days and ended up discovering a water source capable of sustaining his entire village.\n",
            "6j2b3l TIL that Anonymous sent thousands of all-black faxes to the Church of Scientology to deplete all their ink cartridges.\n",
            "8eetoo TIL psychologist Lszl Polgr theorized that any child could become a genius in a chosen field with early training. As an experiment, he trained his daughters in chess from age 4. All three went on to become chess prodigies, and the youngest, Judit, is considered the best female player in history.\n",
            "c1pxmc TIL: When former slave Jordan Anderson was asked to come back and work for his old master, he replied with a deadpan letter asking for 52 years back pay as proof of good faith. The letter has been described as a rare example of documented slave humor of the period.\n",
            "7rizwq TIL that when Diogenes, the ancient Greek philosopher, noticed a prostitutes son throwing rocks at a crowd, he said, Careful, son. Dont hit your father.\n",
            "aid2n2 TIL that Sodium Citrate is the secret ingredient to make any cheese into smooth, creamy nacho cheese sauce. Coincidentally, Sodium Citrates chemical formula is Na3C6H5O7 (NaCHO).\n",
            "9n05qh TIL that there is a monument in Georgia which gives instructions in 8 languages on how to rebuild society after an unknown apocalyptic event, whilst also functioning as a compass, calendar and clock\n",
            "7n9s8j TIL that organ donation is on an opt-out basis in Singapore. Citizens who opt-out have a lower priority of receiving an organ should they need one.\n",
            "6iw33j TIL a Comcast customer who was constantly dissatisfied with his internet speeds set up a Raspberry Pi to automatically send an hourly tweet to @Comcast when his bandwidth was lower than advertised.\n",
            "8bwtmt TIL on the set of The Princess Bride, Andr the Giant once let out a 16 second fart and brought production to a standstill. Nobody said anything except director Rob Reiner, who said Are you OK, Andr? to which Andr replied, I am now boss.\n",
            "7hxv2k TIL Pearl Jam discovered Ticketmaster was adding a service charge to all their concert tickets without informing the band. The band then created their own outdoor stadiums for the fans and testified against Ticketmaster to the United States Department of Justice\n",
            "7vyewk TIL then 13 year-old Danielle Lei, a Girl Scout in San Francisco, was the first Girl Scout to make news by selling cookies outside a marijuana dispensary. She sold 117 boxes in 2 hours.\n",
            "6mgzgu TIL Muhammad Ali was stripped of his heavyweight title, had his passport revoked and faced a five-year prison term for refusing to serve in the U.S. Armed Services at the height of the Vietnam War. I aint got no quarrel with those Vietcong, he said. They never called me n****r.\n",
            "anv7g9 TIL a woman named Glenda Blackwell brought a scratch off lottery ticket to prove to her husband that buying lottery tickets was a waster of money and accidentally ended up winning $1 million.\n",
            "8l1w7k TIL that since Uber was introduced in New York City in 2011, drinking-related car wrecks decreased by 2535 percent in all boroughs.\n",
            "8r2ecx TIL Guns and Roses guitarist Slash did not allow the TV show Glee to use any of Guns and Roses music despite many attempts from producers. He stated Glee is worse than Grease and Grease is bad enough.\n",
            "c5nuyb TIL when Charlie Sheen came out as HIV positive, it led to a 95 percent increase in over the counter HIV home testing kits and 2.75 million searches on the topic, dubbed The Charlie Sheen Effect. Some said that Sheen did more for awareness of HIV than most UN events.\n",
            "aryyqh TIL: You were more likely to get a job if you had smallpox scars in the 18th century. The scars proved that you already had smallpox and could not pass it on to your employers.\n",
            "a5zenf TIL about an orangutan named Ken who escaped from his enclosure at the San Diego Zoo multiple times in the 80s. His apparent goals were visiting other animals, throwing rocks at a despised orangutan rival and taking photos with tourists.\n",
            "8ylhrw TIL MRI of dogs brains show that they see owners as family and prioretize the smell of humans over everything\n",
            "7mgzwu TIL the second officer of the Titanic, who survived by swimming from the sinking ship to a capsized raft, later in life sailed his civilian craft to Dunkirk and helped evacuate over 130 men.\n",
            "7uo5vp TIL on 2009 Stephen Hawking held a party open to all, but only publicized the party after it was over so that only time-travellers would know to attend; as expected, nobody showed up to the party.\n",
            "a8nnhv TIL that an Orca killed a Great White Shark near Californias Farallon Islands in 2000. The smell of the dead sharks carcass caused all nearby great whites to vanish. A great white with a satellite tag in the area was seen to immediately dive to a depth of 500 meters and then swam to Hawaii.\n",
            "ah1imy TIL that physicist Heinrich Hertz, upon proving the existence of radio waves, stated that Its of no use whatsoever. When asked about the applications of his discovery: Nothing, I guess.\n",
            "a4adn8 TIL that in Hinduism, atheism is considered to be a valid path to spirituality, as it can be argued that God can manifest in several forms with no form being one of them.\n",
            "8tun4u TIL that when released in France in 2007, Ratatouille was not only praised for its technical accuracy and attention to culinary detail, it also drew the 4th highest opening-day attendance in French movie history.\n",
            "5mkkyh TIL the term genuine leather isnt reassuring you that the item is made of real leather, it as an actual distinct grade of leather and is the second worst type of leather there is.\n",
            "cnmb4t TIL Of Billy Ray Harris, a beggar who was accidentally given a $4,000 engagement ring by a passing woman when she dropped it into his cup. He never sold it. Two days later the woman came back for her ring and he gave it to her. In thanks, she set up a fund that raised over $185,000 for him\n",
            "7i2232 TIL that Apatheism is the belief that if a god exists, or not, it does not matter, because the effect is the same. Therefore there is no point engaging in worship or even positing the question of existence of the god at all.\n",
            "8hiaut TIL Chadwick Boseman was accepted into a prestigious summer theater program at Oxford University, but couldnt afford to go. He secured funding through a private benefactor, who turned out to be Denzel Washington. Over 20 yrs later Chadwick thanked him in person at the premiere of Black Panther.\n",
            "6tf6oq TIL that the refrain when one door closes, another opens is actually an Alexander Graham Bell quote which he followed by saying but we so often look so long and so regretfully upon the closed door, that we do not see the ones which open for us.\n",
            "8d88ow TIL that NYC beekeepers noticed their bees making red honey, which led to an investigation that ultimately exposed the citys largest marijuana farm in the basement of a Brooklyn cherry factory\n",
            "ainwg4 TIL US Navys submarine periscope controls used to cost $38,000, but were replaced by $20 xbox controllers.\n",
            "9p0w28 TIL when the Bulgarian monarch died at 49 during WW2, his 6-year-old son Simeon became the leader. Shortly after, 97% of Bulgaria voted to end the monarchy in favor of a democracy. In 2005, 64-year-old Simeon ran for Prime Minister of Bulgaria and won, making him the countrys leader again.\n",
            "8adkpx TIL a riddle from 1688 goes. If a man born blind can feel the differences between shapes such as spheres and cubes, could he, if given the ability, distinguish those objects by sight alone? In 2003 the riddle was solved when five people had their sight restored though surgery. They could not.\n",
            "832yls TIL: China creates so much synthetic diamonds that are identical to real diamonds that prices of diamonds are being driven down and De Beers has created a university to study how to identify natural and man made diamonds because no experts can tell the difference.\n",
            "8c7zqu TIL: Of the United States 2.9 million female high school athletes, only 3% are cheerleaders, yet cheerleading accounts for nearly 65% of all catastrophic injuries in girls high school athletics and carries the highest rate of catastrophic injuries in sports.\n",
            "9wyz4w TIL A Japanese rail company has apologised after a train left a station 25 seconds early. The operator said, the great inconvenience we placed upon our customers was truly inexcusable.\n",
            "atk0xj TIL that Gordon Ramsay has chosen not to give his children a large inheritance, does not take them to expensive restaurants (not even his own), and does not allow them to sit in first class on planes so that they are not spoiled.\n",
            "aemzlq TIL JFKs father Joseph Kennedy made much of his fortune through insider trading. FDR later made him chairman of the Securities and Exchange Commission. When asked why he appointed a crook, FDR replied, set a thief to catch a thief. Kennedy proceeded to outlaw the practices that made him rich.\n",
            "a81n26 TIL that people who experience goosebumps or shivers from listening to music tend to experience much stronger emotions in response to music and are more emotional in general. Music tends to be a much more important part of daily life for these people.\n",
            "alg95p TIL Pornhub has a branch of their network called Pornhub Cares where they focus on humanitarian efforts. Some of their causes are breast and testicular cancer research, planting trees, and funding student college scholarships.\n",
            "8km8v5 TIL that on September 11th, 2001, Officer John Perry of the NYPD went to headquarters to file retirement paperwork. When he heard the explosion at the world trade center he immediately responded and was later killed when one of the towers collapsed. He was the only off-duty officer killed on 9/11.\n",
            "7lbulh TIL for the first 40 million years that woody trees were around, wood was not biodegradable...until a fungus figured out how to rot it\n",
            "ae80ho TIL Fortnite creator Tim Sweeney is one of the largest landowners in North Carolina and has been buying land for ecologically sustainable purposes since 2008\n",
            "94jehy TIL Bill Gates, since 2007, has given away 48% of his net worth (roughly $28 billion dollars), which has helped save 6 million lives.\n",
            "avj0wq TIL in 1981 a man named Roger Fischer had an idea for a volunteer to have ICBM launch codes put in their chest cavity. In the event of an emergency, the volunteer would carry a knife to be killed with. It was meant to force the personal killing of one man to start the impersonal killing of millions.\n",
            "9u4tka TIL that the creators/directors/writers for Parks and Rec, Bobs Burgers, Brooklyn Nine-Nine, Silicon Valley, Modern Family, The Good Place, American Dad, and Rick and Morty all got their big breaks on King of the Hill\n",
            "a0zuyu TIL marine biologist, Stephen Hillenburg, created an educational comic book about tide pool animals called The Intertidal Zone to help educate his students. In later years after becoming an animator he began developing those same characters and concepts for what became SpongeBob Squarepants.\n",
            "7kgxtm TIL in the 1880s, many farmers communicated by connecting their phones to barbed wire fences. This process often allowed for up to 20 people to be connected at once, everyones phone would ring regardless of who called, and the invention helped many farmers overcome depression and loneliness.\n",
            "c5uhay TIL prohibition agent Izzy Einstein bragged that he could find liquor in any city in under 30 minutes. In Chicago it took him 21 min. In Atlanta 17, and Pittsburgh just 11. But New Orleans set the record: 35 seconds. Einstein asked his taxi driver where to get a drink, and the driver handed him one.\n",
            "7gys9y TIL that one of the main engineers behind NASAs Challenger rocket, which exploded in 1986, revealed that after NASA would not heed his warnings against launching in the cold weather, he told his wife the night before the launch, Its going to blow up.\n",
            "856l9a TIL upon hearing about the death of Teddy Roosevelt, Vice President Thomas R. Marshal declared death had to take him in his sleep, for if he was awake thered have been a fight\n",
            "8ssvbl TIL there is no antivenom for a blue-ringed octopus bite. However, if you can get a ventilator to breathe for you for 15 hours, you survive with no side effects.\n",
            "alp3td TIL that about 85 percent of hospitals still use pagers because hospitals can be dead zones for cell service. In some hospital areas, the walls are built to keep X-rays from penetrating, but those heavy-duty designs also make it hard for a cell phone signal to make it through but not pagers.\n",
            "8un2ga TIL Adam West and Frank Gorshin were kicked out of an orgy because they were were determined to stay in-character as Batman and the Riddler.\n",
            "8z2kt6 TIL that in 1997, a poacher wounded a tiger and stole part of its kill. The tiger found the poachers cabin, destroyed his belongings, waited at least half a day for him to return, then killed and ate him.\n",
            "cn7syc TIL In 2004 actor Paul Walker secretly purchased a $10,000 engagement ring for a U.S. military veteran. Paul was at a jewelry store &amp; overheard a couple talking about a ring they loved but that was too expensive. Paul quietly put the ring on his tab and walked out of the door.\n",
            "azh72j TIL that koalas have one of the smallest brains in proportion to body weight of any mammal. They are so dumb, that when presented with leaves on a flat surface instead of on branches, they are unable to recognize them as food and will not eat them.\n",
            "6qzaz1 TIL about the Rosenhan experiment, in which a Stanford psychologist and his associates faked hallucinations in order to be admitted to psychiatric hospitals. They then acted normally. All were forced to admit to having a mental illness and agree to take antipsychotic drugs in order to be released.\n",
            "712vs9 TIL that Mozart disliked performer Adriana Ferrarese del Bene, who was know for nodding her head down on low notes and raising her head on high notes, so much, that he wrote a song for her to perform that had lots of jumps from low to high just so he could see her head bob like a chicken onstage.\n",
            "a5if5j TIL that the philosopher William James experienced great depression due to the notion that free will is an illusion. He brought himself out of it by realizing, since nobody seemed able to prove whether it was real or not, that he could simply choose to believe it was.\n",
            "5wp70u TIL Water is used in rice fields to prevent weeds. Rice doesnt actually need that much water, but since it can thrive in such conditions, whereas weeds cannot, its a natural protection against them.\n",
            "7drskj TIL Vitaminwater is basically sugar-water, to which about a pennys worth of synthetic vitamins have been added. A bottle of vitaminwater contains 33 grams of sugar, making it more akin to a soft drink than to a healthy beverage\n",
            "b6op2m TIL an elderly man gained the trust of a Belgian bank by bringing the workers chocolates. He was eventually given VIP access to the bank vault. In 2007, he stole $28 million worth of diamonds and vanished.\n",
            "9weddc TIL that Psy initially refused to upload Gangnam Style to Youtube, saying that he would be humiliated because he didnt have any international fans.\n",
            "8xpr27 TIL two trapped miners once asked for an ipod with The Foo Fighters music on it to keep their spirits up. After hearing this, Dave Grohl wrote a note saying I want you to know that when you come home, theres two tickets to any Foos show, anywhere, and two cold beers waiting for you.\n",
            "8jiiux TIL Steve Jobs believed that his commitment to vegan diets meant his body was flushed of mucus and he was free from body odor, so he didnt need to wear deodorant or shower regularly. His former coworkers quote that he was very, very wrong\n"
          ],
          "name": "stdout"
        }
      ]
    },
    {
      "cell_type": "code",
      "metadata": {
        "id": "YuLaShmAs6x5",
        "colab_type": "code",
        "colab": {}
      },
      "source": [
        "#https://stackoverflow.com/questions/8689795/how-can-i-remove-non-ascii-characters-but-leave-periods-and-spaces-using-python\n",
        "    "
      ],
      "execution_count": 0,
      "outputs": []
    },
    {
      "cell_type": "code",
      "metadata": {
        "id": "TM9W8JDCWgAB",
        "colab_type": "code",
        "outputId": "41385e1d-a82c-4a08-a85c-9966221213de",
        "colab": {
          "base_uri": "https://localhost:8080/",
          "height": 50
        }
      },
      "source": [
        "import string\n",
        "print(string.printable)"
      ],
      "execution_count": 0,
      "outputs": [
        {
          "output_type": "stream",
          "text": [
            "0123456789abcdefghijklmnopqrstuvwxyzABCDEFGHIJKLMNOPQRSTUVWXYZ!\"#$%&'()*+,-./:;<=>?@[\\]^_`{|}~ \t\n",
            "\r\u000b\f\n"
          ],
          "name": "stdout"
        }
      ]
    },
    {
      "cell_type": "code",
      "metadata": {
        "id": "-FR2HF2VJLJK",
        "colab_type": "code",
        "outputId": "4ccd3ad5-c879-4dda-cee7-5fbd361a6798",
        "colab": {
          "base_uri": "https://localhost:8080/",
          "height": 102
        }
      },
      "source": [
        "! cd '/content/gdrive/My Drive/Chatbot/' ; ls r*.txt | xargs -L 1 wc"
      ],
      "execution_count": 0,
      "outputs": [
        {
          "output_type": "stream",
          "text": [
            "  325392 16109903 87161691 rAskReddit.txt\n",
            "  337107 15033769 85689554 rnews.txt\n",
            "  339541 12756240 72687966 rnottheonion.txt\n",
            "   68529  3350392 19319193 routoftheloop.txt\n",
            "  248952 11261157 65389928 rworldnews.txt\n"
          ],
          "name": "stdout"
        }
      ]
    },
    {
      "cell_type": "code",
      "metadata": {
        "id": "5LyoTy6XJUYL",
        "colab_type": "code",
        "colab": {}
      },
      "source": [
        "  "
      ],
      "execution_count": 0,
      "outputs": []
    }
  ]
}