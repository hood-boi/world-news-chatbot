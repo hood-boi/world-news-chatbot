{
  "nbformat": 4,
  "nbformat_minor": 0,
  "metadata": {
    "colab": {
      "name": "Data_Collection.ipynb",
      "version": "0.3.2",
      "provenance": [],
      "include_colab_link": true
    },
    "kernelspec": {
      "name": "python3",
      "display_name": "Python 3"
    }
  },
  "cells": [
    {
      "cell_type": "markdown",
      "metadata": {
        "id": "view-in-github",
        "colab_type": "text"
      },
      "source": [
        "<a href=\"https://colab.research.google.com/github/hood-boi/world-news-chatbot/blob/master/Data_Collection.ipynb\" target=\"_parent\"><img src=\"https://colab.research.google.com/assets/colab-badge.svg\" alt=\"Open In Colab\"/></a>"
      ]
    },
    {
      "cell_type": "code",
      "metadata": {
        "id": "ui7WodCsDP_5",
        "colab_type": "code",
        "outputId": "a6d05a8c-5b79-4aaf-d5bc-ac01a80c5dd4",
        "colab": {
          "base_uri": "https://localhost:8080/",
          "height": 187
        }
      },
      "source": [
        "!pip install langdetect"
      ],
      "execution_count": 1,
      "outputs": [
        {
          "output_type": "stream",
          "text": [
            "Collecting langdetect\n",
            "\u001b[?25l  Downloading https://files.pythonhosted.org/packages/59/59/4bc44158a767a6d66de18c4136c8aa90491d56cc951c10b74dd1e13213c9/langdetect-1.0.7.zip (998kB)\n",
            "\u001b[K     |████████████████████████████████| 1.0MB 5.0MB/s \n",
            "\u001b[?25hRequirement already satisfied: six in /usr/local/lib/python3.6/dist-packages (from langdetect) (1.12.0)\n",
            "Building wheels for collected packages: langdetect\n",
            "  Building wheel for langdetect (setup.py) ... \u001b[?25l\u001b[?25hdone\n",
            "  Stored in directory: /root/.cache/pip/wheels/ec/0c/a9/1647275e7ef5014e7b83ff30105180e332867d65e7617ddafe\n",
            "Successfully built langdetect\n",
            "Installing collected packages: langdetect\n",
            "Successfully installed langdetect-1.0.7\n"
          ],
          "name": "stdout"
        }
      ]
    },
    {
      "cell_type": "code",
      "metadata": {
        "id": "oFBc-6FFsBU1",
        "colab_type": "code",
        "outputId": "5df58538-f366-443b-81cf-bc805c0b4d95",
        "colab": {
          "base_uri": "https://localhost:8080/",
          "height": 68
        }
      },
      "source": [
        "import requests\n",
        "import json\n",
        "import time\n",
        "import string\n",
        "import nltk\n",
        "from langdetect import detect\n",
        "nltk.download('words')"
      ],
      "execution_count": 2,
      "outputs": [
        {
          "output_type": "stream",
          "text": [
            "[nltk_data] Downloading package words to /root/nltk_data...\n",
            "[nltk_data]   Unzipping corpora/words.zip.\n"
          ],
          "name": "stdout"
        },
        {
          "output_type": "execute_result",
          "data": {
            "text/plain": [
              "True"
            ]
          },
          "metadata": {
            "tags": []
          },
          "execution_count": 2
        }
      ]
    },
    {
      "cell_type": "code",
      "metadata": {
        "id": "IQzNGetCagTS",
        "colab_type": "code",
        "colab": {}
      },
      "source": [
        "printable = set(string.printable)\n",
        "\n",
        "def cleanString(text):\n",
        "    printable = set(string.printable)\n",
        "    text_i = ''.join(filter(lambda x: x in printable, text))\n",
        "    return text_i;"
      ],
      "execution_count": 0,
      "outputs": []
    },
    {
      "cell_type": "code",
      "metadata": {
        "id": "DPNzxqgc0xA7",
        "colab_type": "code",
        "colab": {
          "base_uri": "https://localhost:8080/",
          "height": 34
        },
        "outputId": "3de50dc0-9846-4e54-9475-68660169c221"
      },
      "source": [
        "! wc '/content/gdrive/My Drive/Chatbot/rworldnews.txt'"
      ],
      "execution_count": 6,
      "outputs": [
        {
          "output_type": "stream",
          "text": [
            "  248952 11261157 65389928 /content/gdrive/My Drive/Chatbot/rworldnews.txt\n"
          ],
          "name": "stdout"
        }
      ]
    },
    {
      "cell_type": "code",
      "metadata": {
        "id": "DJ9Fk548sMVv",
        "colab_type": "code",
        "outputId": "f5c424f7-5c9b-4def-faa6-8a244d9ac6e8",
        "colab": {
          "base_uri": "https://localhost:8080/",
          "height": 187
        }
      },
      "source": [
        "subreddit = \"AskReddit\"\n",
        "\n",
        "def updateListingDict(postsJSON, postsDICT):\n",
        "    chunk_size = len(postsJSON[\"data\"][\"children\"])\n",
        "    posts = postsJSON[\"data\"][\"children\"]\n",
        "    \n",
        "    for i in range(chunk_size): #Loop through each reddit post\n",
        "        r_post_title = posts[i][\"data\"][\"title\"];\n",
        "        r_post_title = \" \".join(r_post_title.split());\n",
        "        r_post_title = r_post_title.replace('\\n', ' ');\n",
        "        r_post_title = r_post_title.replace('\\t', ' ');\n",
        "        r_post_title = r_post_title.replace('\\'', '');\n",
        "        r_post_title = r_post_title.replace('\\\"', '');\n",
        "\n",
        "        postsDICT[posts[i][\"data\"][\"id\"]] = cleanString(r_post_title);\n",
        "\n",
        "after = '';\n",
        "listing_dict = {};\n",
        "\n",
        "for i in range(0, 10):\n",
        "    if(after):\n",
        "        print(\"[AFTER] = \", after)\n",
        "        r_worldnews = requests.get('https://www.reddit.com/r/'+ subreddit +'/top.json?t=all&limit=100&after='+after, \n",
        "                                headers = { 'User-agent' : 'ChatBot', \n",
        "                                            'Accept' : '*/*',\n",
        "                                            'Cache-Control' : 'no-cache'\n",
        "                                          });\n",
        "        if(r_worldnews.status_code == 200):\n",
        "            postsJSON = r_worldnews.json()\n",
        "            updateListingDict(postsJSON, listing_dict);\n",
        "            after = postsJSON[\"data\"][\"after\"];\n",
        "    else:\n",
        "        print(\"[AFTER] = NONE\")\n",
        "        r_worldnews = requests.get('https://www.reddit.com/r/'+ subreddit +'/top.json?t=all&limit=100', \n",
        "                                headers = { 'User-agent' : 'ChatBot', \n",
        "                                            'Accept' : '*/*',\n",
        "                                            'Cache-Control' : 'no-cache' \n",
        "                                          });\n",
        "        if(r_worldnews.status_code == 200):\n",
        "            postsJSON = r_worldnews.json()\n",
        "            updateListingDict(postsJSON, listing_dict);\n",
        "            #print(\"[GET] request successful\")\n",
        "            after = postsJSON[\"data\"][\"after\"];\n",
        "            \n",
        "            "
      ],
      "execution_count": 7,
      "outputs": [
        {
          "output_type": "stream",
          "text": [
            "[AFTER] = NONE\n",
            "[AFTER] =  t3_a7nwe2\n",
            "[AFTER] =  t3_at2yq2\n",
            "[AFTER] =  t3_afqynk\n",
            "[AFTER] =  t3_bqc3ib\n",
            "[AFTER] =  t3_c8zwj2\n",
            "[AFTER] =  t3_9tm8ku\n",
            "[AFTER] =  t3_8p0pat\n",
            "[AFTER] =  t3_c27tbb\n",
            "[AFTER] =  t3_aovbo4\n"
          ],
          "name": "stdout"
        }
      ]
    },
    {
      "cell_type": "code",
      "metadata": {
        "id": "9y6iee2ZsU3d",
        "colab_type": "code",
        "outputId": "9dd40c90-fa1f-4712-c5b0-8f8bac21a6b6",
        "colab": {
          "base_uri": "https://localhost:8080/",
          "height": 51
        }
      },
      "source": [
        "print(len(listing_dict))\n",
        "\n",
        "for key, value in listing_dict.items():\n",
        "    print(key, value)\n",
        "    break;"
      ],
      "execution_count": 8,
      "outputs": [
        {
          "output_type": "stream",
          "text": [
            "994\n",
            "ablzuq People who havent pooped in 2019 yet, why are you still holding on to last years shit?\n"
          ],
          "name": "stdout"
        }
      ]
    },
    {
      "cell_type": "code",
      "metadata": {
        "id": "pDCIaWZ7sXLr",
        "colab_type": "code",
        "outputId": "7a17d9bd-1b4f-4d7e-c19f-8988443a967f",
        "colab": {
          "base_uri": "https://localhost:8080/",
          "height": 34
        }
      },
      "source": [
        "from google.colab import drive\n",
        "drive.mount('/content/gdrive')"
      ],
      "execution_count": 9,
      "outputs": [
        {
          "output_type": "stream",
          "text": [
            "Drive already mounted at /content/gdrive; to attempt to forcibly remount, call drive.mount(\"/content/gdrive\", force_remount=True).\n"
          ],
          "name": "stdout"
        }
      ]
    },
    {
      "cell_type": "code",
      "metadata": {
        "id": "IadICnBysbTB",
        "colab_type": "code",
        "colab": {}
      },
      "source": [
        "file_handle = open('/content/gdrive/My Drive/Chatbot/r'+subreddit+'.txt', 'a+')\n",
        "\n",
        "#Expecting array of JSON children\n",
        "def recursePostComments(context, commentsJSON):\n",
        "   \n",
        "    size = len(commentsJSON)\n",
        "    for i in range(0, size):\n",
        "        #print(commentsJSON[i])\n",
        "        if('data' in commentsJSON[i].keys()):\n",
        "            if('body' in commentsJSON[i]['data'].keys()):\n",
        "                reply = commentsJSON[i]['data']['body'];\n",
        "                if(\"[deleted]\" in reply or \"[removed]\" in reply):\n",
        "                    continue;\n",
        "                else:\n",
        "                    reply = reply.replace('\\n', ' ');\n",
        "                    reply = reply.replace('\\t', ' ');\n",
        "                    reply = reply.replace('\\'', '');\n",
        "                    reply = reply.replace('\\\"', '');\n",
        "                    reply = reply.replace('&gt', '');\n",
        "                    reply = reply.replace('&lt', '');\n",
        "                    #print(\"Context : \", context);\n",
        "                    \n",
        "                    if (len(reply) > 500):\n",
        "                        continue;\n",
        "                        #print(\"\\tLen :\", len(reply));\n",
        "                    #    t_reply = summarizeText(reply);\n",
        "                    #    if (len(t_reply) > 0):\n",
        "                    #        reply = t_reply;\n",
        "                    #print(\"\\tReply :\", reply);\n",
        "                    \n",
        "                    reply = cleanString(reply);\n",
        "                    reply = \" \".join(reply.split());\n",
        "                                        \n",
        "                    \n",
        "                    if(reply.isspace() or context.isspace()):\n",
        "                        print(\"Error : \", reply, \", \", context)\n",
        "                        continue;                    \n",
        "                    else:\n",
        "                        line_to_write = \"{}\\t{}\\n\".format(reply.strip(), context.strip());\n",
        "                        file_handle.write(line_to_write)\n",
        "                    \n",
        "                    if('replies' in commentsJSON[i]['data'].keys()):\n",
        "                        if(commentsJSON[i]['data']['replies']):\n",
        "                            if('data' in commentsJSON[i]['data']['replies'].keys()):\n",
        "                                if(commentsJSON[i]['data']['replies']['data']):\n",
        "                                    if('children' in commentsJSON[i]['data']['replies']['data'].keys()):\n",
        "                                        recursePostComments(reply, commentsJSON[i]['data']['replies']['data']['children']);\n",
        "            else:\n",
        "                continue;\n",
        "        else:\n",
        "            continue;\n",
        "    return;\n"
      ],
      "execution_count": 0,
      "outputs": []
    },
    {
      "cell_type": "code",
      "metadata": {
        "id": "KdWXPN00lj3I",
        "colab_type": "code",
        "outputId": "91759776-88f9-4b94-b118-d87552c2908b",
        "colab": {
          "base_uri": "https://localhost:8080/",
          "height": 33
        }
      },
      "source": [
        "! wc '/content/gdrive/My Drive/Chatbot/rworldnews.txt'"
      ],
      "execution_count": 0,
      "outputs": [
        {
          "output_type": "stream",
          "text": [
            "  248686 11250503 65328320 /content/gdrive/My Drive/Chatbot/rworldnews.txt\n"
          ],
          "name": "stdout"
        }
      ]
    },
    {
      "cell_type": "code",
      "metadata": {
        "id": "OORr_Wa1scF1",
        "colab_type": "code",
        "colab": {}
      },
      "source": [
        "for key, value in listing_dict.items():\n",
        "    print(key, value)\n",
        "    time.sleep(2)\n",
        "    r_comments = requests.get('https://www.reddit.com/r/'+ subreddit +'/comments/' + key +'.json?limit=1000&sort=confidence&depth=3', \n",
        "                                headers = { 'User-agent' : 'ChatBot', \n",
        "                                            'Accept' : '*/*',\n",
        "                                            'Cache-Control' : 'no-cache' \n",
        "                                          });\n",
        "    r_comments_json = r_comments.json();\n",
        "    context = value;\n",
        "    commentsJSON = r_comments_json[1][\"data\"][\"children\"]\n",
        "    recursePostComments(context, commentsJSON)\n",
        "    \n",
        "file_handle.close()"
      ],
      "execution_count": 0,
      "outputs": []
    },
    {
      "cell_type": "code",
      "metadata": {
        "id": "YuLaShmAs6x5",
        "colab_type": "code",
        "colab": {}
      },
      "source": [
        "#https://stackoverflow.com/questions/8689795/how-can-i-remove-non-ascii-characters-but-leave-periods-and-spaces-using-python\n",
        "    "
      ],
      "execution_count": 0,
      "outputs": []
    },
    {
      "cell_type": "code",
      "metadata": {
        "id": "TM9W8JDCWgAB",
        "colab_type": "code",
        "outputId": "41385e1d-a82c-4a08-a85c-9966221213de",
        "colab": {
          "base_uri": "https://localhost:8080/",
          "height": 50
        }
      },
      "source": [
        "import string\n",
        "print(string.printable)"
      ],
      "execution_count": 0,
      "outputs": [
        {
          "output_type": "stream",
          "text": [
            "0123456789abcdefghijklmnopqrstuvwxyzABCDEFGHIJKLMNOPQRSTUVWXYZ!\"#$%&'()*+,-./:;<=>?@[\\]^_`{|}~ \t\n",
            "\r\u000b\f\n"
          ],
          "name": "stdout"
        }
      ]
    },
    {
      "cell_type": "code",
      "metadata": {
        "id": "-FR2HF2VJLJK",
        "colab_type": "code",
        "colab": {
          "base_uri": "https://localhost:8080/",
          "height": 102
        },
        "outputId": "4ccd3ad5-c879-4dda-cee7-5fbd361a6798"
      },
      "source": [
        "! cd '/content/gdrive/My Drive/Chatbot/' ; ls r*.txt | xargs -L 1 wc"
      ],
      "execution_count": 22,
      "outputs": [
        {
          "output_type": "stream",
          "text": [
            "  325392 16109903 87161691 rAskReddit.txt\n",
            "  337107 15033769 85689554 rnews.txt\n",
            "  339541 12756240 72687966 rnottheonion.txt\n",
            "   68529  3350392 19319193 routoftheloop.txt\n",
            "  248952 11261157 65389928 rworldnews.txt\n"
          ],
          "name": "stdout"
        }
      ]
    },
    {
      "cell_type": "code",
      "metadata": {
        "id": "5LyoTy6XJUYL",
        "colab_type": "code",
        "colab": {}
      },
      "source": [
        "  "
      ],
      "execution_count": 0,
      "outputs": []
    }
  ]
}